{
  "metadata": {
    "kernelspec": {
      "name": "python",
      "display_name": "Python (Pyodide)",
      "language": "python"
    },
    "language_info": {
      "codemirror_mode": {
        "name": "python",
        "version": 3
      },
      "file_extension": ".py",
      "mimetype": "text/x-python",
      "name": "python",
      "nbconvert_exporter": "python",
      "pygments_lexer": "ipython3",
      "version": "3.8"
    }
  },
  "nbformat_minor": 5,
  "nbformat": 4,
  "cells": [
    {
      "id": "5edff4d2-6f67-4614-b0c7-7c180105edae",
      "cell_type": "markdown",
      "source": "2-title.png",
      "metadata": {}
    },
    {
      "id": "1b5ea985-d72e-4543-be9b-e6ba6ae23e10",
      "cell_type": "markdown",
      "source": "In this notebook, Data Science Tools and Ecosystem are summarized.",
      "metadata": {}
    },
    {
      "id": "a371a1f8-0651-43de-b11b-64d1ad135a77",
      "cell_type": "markdown",
      "source": "# H1: Objectives:",
      "metadata": {}
    },
    {
      "id": "98c78573-cb9c-4902-9858-d8418b6c508c",
      "cell_type": "markdown",
      "source": "- List popular languages for Data Science\n- list the commonly used libraries in data science\n- do simple arithmetics",
      "metadata": {}
    },
    {
      "id": "d2c875bd-019f-46aa-99bd-2ee444e49e9a",
      "cell_type": "markdown",
      "source": "Some of the popular languages that Data Scientists use are:\n1. Python\n2. R\n3. Julia",
      "metadata": {}
    },
    {
      "id": "796386a8-19b8-4821-a97f-58dbf871fada",
      "cell_type": "markdown",
      "source": "Some of the commonly used libraries used by Data Scientists include:\n1. Pandas\n2. Scikit learn\n3. Pandas",
      "metadata": {}
    },
    {
      "id": "7b903b2e-ddee-4a0a-a53a-beeea84379b6",
      "cell_type": "markdown",
      "source": "|Data Science Tools|\n|--------------|\n|Jupyter notebook|\n|Jupyter lab|\n|RStudio|",
      "metadata": {}
    },
    {
      "id": "db75c757-2c5d-455e-a11b-ffdcd0d8548f",
      "cell_type": "markdown",
      "source": "### H3: Below are a few examples of evaluating arithmetic expressions in Python",
      "metadata": {}
    },
    {
      "id": "4e73fbd0-f789-4058-928c-1314e4a83c4b",
      "cell_type": "markdown",
      "source": "This a simple arithmetic expression to mutiply then add integers",
      "metadata": {}
    },
    {
      "id": "95003c7f-7537-4c24-8ed4-325bc5f7170e",
      "cell_type": "code",
      "source": "print((3*4)+5)",
      "metadata": {
        "trusted": true
      },
      "outputs": [
        {
          "name": "stdout",
          "output_type": "stream",
          "text": "17\n"
        }
      ],
      "execution_count": 3
    },
    {
      "id": "dd0e9121-770f-4492-8b45-10fea2a71027",
      "cell_type": "markdown",
      "source": "This will convert 200 minutes to hours by diving by 60",
      "metadata": {}
    },
    {
      "id": "b7f1b788-c46f-4d02-88e5-58398dd56ba6",
      "cell_type": "code",
      "source": "print(200/60)",
      "metadata": {
        "trusted": true
      },
      "outputs": [
        {
          "name": "stdout",
          "output_type": "stream",
          "text": "3.3333333333333335\n"
        }
      ],
      "execution_count": 4
    },
    {
      "id": "00ffdfd1-4b8e-4aba-92ad-fa296c1359ca",
      "cell_type": "markdown",
      "source": "## H2: Author\nLucciani Ngwa NIBA NESTA",
      "metadata": {}
    },
    {
      "id": "7d51f5d0-91be-45bf-be04-1ce47eb4b62c",
      "cell_type": "code",
      "source": "",
      "metadata": {
        "trusted": true
      },
      "outputs": [],
      "execution_count": null
    }
  ]
}